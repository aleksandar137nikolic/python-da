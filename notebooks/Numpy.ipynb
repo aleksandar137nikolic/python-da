{
 "cells": [
  {
   "cell_type": "code",
   "execution_count": 5,
   "id": "cd1c591f",
   "metadata": {},
   "outputs": [],
   "source": [
    "import numpy as np"
   ]
  },
  {
   "cell_type": "code",
   "execution_count": 6,
   "id": "7f723936",
   "metadata": {},
   "outputs": [],
   "source": [
    "my_arr = np.arange(1_000_000)\n",
    "my_list = list(range(1_000_000))"
   ]
  },
  {
   "cell_type": "code",
   "execution_count": 7,
   "id": "b2648b3d",
   "metadata": {},
   "outputs": [
    {
     "name": "stdout",
     "output_type": "stream",
     "text": [
      "684 µs ± 14.2 µs per loop (mean ± std. dev. of 7 runs, 1,000 loops each)\n",
      "29 ms ± 412 µs per loop (mean ± std. dev. of 7 runs, 10 loops each)\n"
     ]
    }
   ],
   "source": [
    "%timeit my_arr2 = my_arr * 2\n",
    "\n",
    "%timeit my_list2 = [x * 2 for x in my_list]\n"
   ]
  },
  {
   "cell_type": "markdown",
   "id": "bd148ab1",
   "metadata": {},
   "source": [
    "For Array, we don't loop, but the function applies as if its dealing with a vector. It enables batch computation.\n",
    "- An ndarray is a generic multidimensional container for homogeneous data\n"
   ]
  },
  {
   "cell_type": "code",
   "execution_count": 10,
   "id": "60b2ce03",
   "metadata": {},
   "outputs": [
    {
     "ename": "SyntaxError",
     "evalue": "invalid syntax (3070459146.py, line 1)",
     "output_type": "error",
     "traceback": [
      "\u001b[0;36m  Cell \u001b[0;32mIn[10], line 1\u001b[0;36m\u001b[0m\n\u001b[0;31m    np.arange? # checking documentation about python objects\u001b[0m\n\u001b[0m             ^\u001b[0m\n\u001b[0;31mSyntaxError\u001b[0m\u001b[0;31m:\u001b[0m invalid syntax\n"
     ]
    }
   ],
   "source": [
    "np.arange? # checking documentation about python objects\n"
   ]
  },
  {
   "cell_type": "code",
   "execution_count": 13,
   "id": "37e4b6ee",
   "metadata": {},
   "outputs": [
    {
     "data": {
      "text/plain": [
       "(2, 3)"
      ]
     },
     "execution_count": 13,
     "metadata": {},
     "output_type": "execute_result"
    }
   ],
   "source": [
    "data = np.array([[1,2,3],[3,3,2]])\n",
    "data.dtype\n",
    "data.shape"
   ]
  },
  {
   "cell_type": "code",
   "execution_count": 14,
   "id": "67b56408",
   "metadata": {},
   "outputs": [
    {
     "data": {
      "text/plain": [
       "array([[10, 20, 30],\n",
       "       [30, 30, 20]])"
      ]
     },
     "execution_count": 14,
     "metadata": {},
     "output_type": "execute_result"
    }
   ],
   "source": [
    "# Multiplying and adding\n",
    "data * 10"
   ]
  },
  {
   "cell_type": "code",
   "execution_count": 15,
   "id": "b93b037f",
   "metadata": {},
   "outputs": [
    {
     "data": {
      "text/plain": [
       "array([[2, 4, 6],\n",
       "       [6, 6, 4]])"
      ]
     },
     "execution_count": 15,
     "metadata": {},
     "output_type": "execute_result"
    }
   ],
   "source": [
    "# Adding\n",
    "data + data"
   ]
  },
  {
   "cell_type": "markdown",
   "id": "88639009",
   "metadata": {},
   "source": [
    "A slice creates a view. But you can make a copy with .copy()"
   ]
  },
  {
   "cell_type": "code",
   "execution_count": 18,
   "id": "f9d5f504",
   "metadata": {},
   "outputs": [],
   "source": [
    "d = np.arange(14)\n",
    "d_s = d[2:4]"
   ]
  },
  {
   "cell_type": "code",
   "execution_count": 20,
   "id": "01a8ed49",
   "metadata": {},
   "outputs": [
    {
     "data": {
      "text/plain": [
       "array([2, 3])"
      ]
     },
     "execution_count": 20,
     "metadata": {},
     "output_type": "execute_result"
    }
   ],
   "source": [
    "d_s"
   ]
  },
  {
   "cell_type": "code",
   "execution_count": 23,
   "id": "86bbc860",
   "metadata": {},
   "outputs": [
    {
     "data": {
      "text/plain": [
       "array([ 0,  1, 14, 14,  4,  5,  6,  7,  8,  9, 10, 11, 12, 13])"
      ]
     },
     "execution_count": 23,
     "metadata": {},
     "output_type": "execute_result"
    }
   ],
   "source": [
    "d_s[:] = 14\n",
    "d"
   ]
  },
  {
   "cell_type": "code",
   "execution_count": 26,
   "id": "4b1e3756",
   "metadata": {},
   "outputs": [
    {
     "data": {
      "text/plain": [
       "array([14, 14])"
      ]
     },
     "execution_count": 26,
     "metadata": {},
     "output_type": "execute_result"
    }
   ],
   "source": [
    "d_ss = d_s.copy()\n",
    "d_ss"
   ]
  },
  {
   "cell_type": "code",
   "execution_count": 27,
   "id": "af0505a5",
   "metadata": {},
   "outputs": [
    {
     "data": {
      "text/plain": [
       "array([ True,  True])"
      ]
     },
     "execution_count": 27,
     "metadata": {},
     "output_type": "execute_result"
    }
   ],
   "source": [
    "d_ss == d_s"
   ]
  },
  {
   "cell_type": "code",
   "execution_count": 28,
   "id": "5d2689be",
   "metadata": {},
   "outputs": [
    {
     "data": {
      "text/plain": [
       "False"
      ]
     },
     "execution_count": 28,
     "metadata": {},
     "output_type": "execute_result"
    }
   ],
   "source": [
    "d_ss is d_s"
   ]
  },
  {
   "cell_type": "markdown",
   "id": "83c55d2e",
   "metadata": {},
   "source": [
    "How to access multidimensional array elements?"
   ]
  },
  {
   "cell_type": "code",
   "execution_count": 30,
   "id": "7fe5ff51",
   "metadata": {},
   "outputs": [
    {
     "data": {
      "text/plain": [
       "3"
      ]
     },
     "execution_count": 30,
     "metadata": {},
     "output_type": "execute_result"
    }
   ],
   "source": [
    "arr2d = np.array([[1, 2, 3], [4, 5, 6], [7, 8, 9]])\n",
    "\n",
    "arr2d[0][2] # 1st level, 2nd level high -> low"
   ]
  },
  {
   "cell_type": "markdown",
   "id": "4e91e4dc",
   "metadata": {},
   "source": [
    "How you cna quickly test and copy old values back"
   ]
  },
  {
   "cell_type": "code",
   "execution_count": null,
   "id": "60dce7d9",
   "metadata": {},
   "outputs": [],
   "source": [
    "old_values = arr3d[0].copy()\n",
    "arr3d[0] = 42\n",
    "arr3d[0] = old_values\n"
   ]
  }
 ],
 "metadata": {
  "kernelspec": {
   "display_name": "Python 3 (ipykernel)",
   "language": "python",
   "name": "python3"
  },
  "language_info": {
   "codemirror_mode": {
    "name": "ipython",
    "version": 3
   },
   "file_extension": ".py",
   "mimetype": "text/x-python",
   "name": "python",
   "nbconvert_exporter": "python",
   "pygments_lexer": "ipython3",
   "version": "3.9.1"
  }
 },
 "nbformat": 4,
 "nbformat_minor": 5
}
